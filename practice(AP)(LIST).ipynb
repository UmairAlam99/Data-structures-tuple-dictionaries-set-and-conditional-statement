{
 "cells": [
  {
   "cell_type": "markdown",
   "id": "400d2fde-76a9-4e74-b666-c1ef4fa52716",
   "metadata": {},
   "source": [
    "#### Create a list: named favorite_fruits that contains at least three of your favorite fruits as strings. "
   ]
  },
  {
   "cell_type": "code",
   "execution_count": 1,
   "id": "327c9959-86b3-4fe4-8e56-c2121a4ab3c3",
   "metadata": {},
   "outputs": [
    {
     "name": "stdout",
     "output_type": "stream",
     "text": [
      "['apple', 'mango', 'banana']\n"
     ]
    }
   ],
   "source": [
    "favorite_fruits = [\"apple\",\"mango\",\"banana\"]\n",
    "print(favorite_fruits)"
   ]
  },
  {
   "cell_type": "markdown",
   "id": "6082569e-023f-48cc-9d96-5537309fffb2",
   "metadata": {},
   "source": [
    "#### Access an element: From the favorite_fruits list, use indexing to print the second fruit in the list. "
   ]
  },
  {
   "cell_type": "code",
   "execution_count": 2,
   "id": "bccab792-1511-442a-9ec2-6a138773744a",
   "metadata": {},
   "outputs": [
    {
     "name": "stdout",
     "output_type": "stream",
     "text": [
      "mango\n"
     ]
    }
   ],
   "source": [
    "print(favorite_fruits[1])"
   ]
  },
  {
   "cell_type": "markdown",
   "id": "fea880b3-8949-4e6a-8d35-4e38cee112b1",
   "metadata": {},
   "source": [
    "#### Find the length: Use a built-in function to find and print the number of items in the favorite_fruits list."
   ]
  },
  {
   "cell_type": "code",
   "execution_count": 3,
   "id": "745e7958-72de-4529-bbc8-b861795ca54a",
   "metadata": {},
   "outputs": [
    {
     "name": "stdout",
     "output_type": "stream",
     "text": [
      "3\n"
     ]
    }
   ],
   "source": [
    "print(len(favorite_fruits))"
   ]
  },
  {
   "cell_type": "markdown",
   "id": "73b4df4f-f8eb-4a29-8101-4258dd38a8ca",
   "metadata": {},
   "source": [
    "#### Mixed data types: Create a list named student_info that contains a student's name (string), age (integer), and GPA (float). "
   ]
  },
  {
   "cell_type": "code",
   "execution_count": 5,
   "id": "01fb31e8-8405-4c69-8137-0d2f24c02e40",
   "metadata": {},
   "outputs": [
    {
     "data": {
      "text/plain": [
       "['umair alam', 26, 3.34]"
      ]
     },
     "execution_count": 5,
     "metadata": {},
     "output_type": "execute_result"
    }
   ],
   "source": [
    "student_info = [\"umair alam\",26,3.34]\n",
    "student_info"
   ]
  },
  {
   "cell_type": "markdown",
   "id": "b281d700-6df5-4d26-8a8a-f038495749c1",
   "metadata": {},
   "source": [
    "#### Negative indexing: From a list of numbers [10, 20, 30, 40, 50], use a negative index to print the last element. "
   ]
  },
  {
   "cell_type": "code",
   "execution_count": 6,
   "id": "f51509e9-f488-4f7c-a6e4-65882d037e49",
   "metadata": {},
   "outputs": [
    {
     "name": "stdout",
     "output_type": "stream",
     "text": [
      "50\n"
     ]
    }
   ],
   "source": [
    "positive_numbers = [10, 20, 30, 40, 50]\n",
    "print(positive_numbers[-1])"
   ]
  },
  {
   "cell_type": "markdown",
   "id": "4c0891de-15ea-40f5-8693-da7aeb65efc8",
   "metadata": {},
   "source": [
    "#### Change an element: Given the list colors = [\"red\", \"green\", \"blue\"], change the second element to \"yellow\". Print the updated list."
   ]
  },
  {
   "cell_type": "code",
   "execution_count": 10,
   "id": "56f768f3-05a4-4667-b29c-4358b1791935",
   "metadata": {},
   "outputs": [
    {
     "name": "stdout",
     "output_type": "stream",
     "text": [
      "['red', 'yellow', 'blue']\n"
     ]
    },
    {
     "data": {
      "text/plain": [
       "['red', 'yellow', 'blue', 'purple']"
      ]
     },
     "execution_count": 10,
     "metadata": {},
     "output_type": "execute_result"
    }
   ],
   "source": [
    "list_of_colors = [\"red\", \"green\", \"blue\"]\n",
    "list_of_colors[1] = \"yellow\"\n",
    "print(list_of_colors)"
   ]
  },
  {
   "cell_type": "markdown",
   "id": "aaf4e766-218b-450a-8ef3-2f2057ded34b",
   "metadata": {},
   "source": [
    "#### # Add an element: To the end of the colors list, add the string \"purple\" using a list method. Print the new list. "
   ]
  },
  {
   "cell_type": "code",
   "execution_count": 11,
   "id": "f34bee9e-0192-4fa0-bf27-8d4317def7e7",
   "metadata": {},
   "outputs": [
    {
     "name": "stdout",
     "output_type": "stream",
     "text": [
      "['red', 'yellow', 'blue', 'purple', 'purple']\n"
     ]
    }
   ],
   "source": [
    "list_of_colors.append(\"purple\")\n",
    "print(list_of_colors)"
   ]
  },
  {
   "cell_type": "code",
   "execution_count": null,
   "id": "1f372cf2-5977-4e12-bdb7-658daf1a73c6",
   "metadata": {},
   "outputs": [],
   "source": []
  }
 ],
 "metadata": {
  "kernelspec": {
   "display_name": "Python 3 (ipykernel)",
   "language": "python",
   "name": "python3"
  },
  "language_info": {
   "codemirror_mode": {
    "name": "ipython",
    "version": 3
   },
   "file_extension": ".py",
   "mimetype": "text/x-python",
   "name": "python",
   "nbconvert_exporter": "python",
   "pygments_lexer": "ipython3",
   "version": "3.13.5"
  }
 },
 "nbformat": 4,
 "nbformat_minor": 5
}
