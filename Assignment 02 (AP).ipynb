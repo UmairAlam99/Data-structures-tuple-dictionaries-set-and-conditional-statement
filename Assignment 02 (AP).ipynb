{
 "cells": [
  {
   "cell_type": "markdown",
   "id": "d47feed8-dae0-4150-8fde-8329c8c67ed7",
   "metadata": {},
   "source": [
    "### Q1. Write a program that takes two numbers (a = 15 , b = 4) and prints their:\n"
   ]
  },
  {
   "cell_type": "markdown",
   "id": "2e3dbaed-cf4a-4c38-9513-ae6bce933851",
   "metadata": {},
   "source": [
    "#### For Sum"
   ]
  },
  {
   "cell_type": "code",
   "execution_count": 44,
   "id": "714fb8b4-12e9-4440-ba9b-931dda9675ab",
   "metadata": {},
   "outputs": [
    {
     "name": "stdout",
     "output_type": "stream",
     "text": [
      "The sum is: 19\n"
     ]
    }
   ],
   "source": [
    "a = 15\n",
    "b = 4\n",
    "x = a + b\n",
    "print (\"The sum of a and b is:\", x)"
   ]
  },
  {
   "cell_type": "markdown",
   "id": "46106f88-3a2c-40c0-bc40-df489bb6839f",
   "metadata": {},
   "source": [
    "#### For Difference\n"
   ]
  },
  {
   "cell_type": "code",
   "execution_count": 5,
   "id": "9d7b7ed5-5801-40b8-846a-8e24fbc9895c",
   "metadata": {},
   "outputs": [
    {
     "name": "stdout",
     "output_type": "stream",
     "text": [
      "11\n"
     ]
    }
   ],
   "source": [
    "a = 15\n",
    "b = 4\n",
    "x = a-b\n",
    "print (\"The difference of a and b is:\", x)"
   ]
  },
  {
   "cell_type": "markdown",
   "id": "2eec608a-c9d8-4bfb-8e30-b776bedf1b4d",
   "metadata": {},
   "source": [
    "#### For Product"
   ]
  },
  {
   "cell_type": "code",
   "execution_count": 6,
   "id": "a36f09de-ddd5-4ee4-be0e-d4c09591dd88",
   "metadata": {},
   "outputs": [
    {
     "name": "stdout",
     "output_type": "stream",
     "text": [
      "60\n"
     ]
    }
   ],
   "source": [
    "a = 15\n",
    "b = 4\n",
    "x  = a*b\n",
    "print (\"The product of a and b is:\", x)"
   ]
  },
  {
   "cell_type": "markdown",
   "id": "d6860014-5528-43cd-9ea6-3c28e42a83cb",
   "metadata": {},
   "source": [
    "#### For Division"
   ]
  },
  {
   "cell_type": "code",
   "execution_count": 7,
   "id": "6d3241d5-7f24-4f3b-8868-ef6d1b683532",
   "metadata": {},
   "outputs": [
    {
     "name": "stdout",
     "output_type": "stream",
     "text": [
      "3.75\n"
     ]
    }
   ],
   "source": [
    "a = 15\n",
    "b = 4\n",
    "x = a/b\n",
    "print (\"The division of a and b is:\", x)"
   ]
  },
  {
   "cell_type": "markdown",
   "id": "24609c58-3c15-451e-861d-e013be915d6c",
   "metadata": {},
   "source": [
    "#### For Floor Division"
   ]
  },
  {
   "cell_type": "code",
   "execution_count": 45,
   "id": "a7c93c14-cdfd-4a96-90fe-00340b72c280",
   "metadata": {},
   "outputs": [
    {
     "name": "stdout",
     "output_type": "stream",
     "text": [
      "The floor division is: 3\n"
     ]
    }
   ],
   "source": [
    "a = 15\n",
    "b = 4\n",
    "x = a//b\n",
    "print (\"The floor division of a and b is:\", x)"
   ]
  },
  {
   "cell_type": "markdown",
   "id": "ae53a34b-1a57-4c23-b340-fcf6be9e518c",
   "metadata": {},
   "source": [
    "#### For Modulus"
   ]
  },
  {
   "cell_type": "code",
   "execution_count": 46,
   "id": "f213e988-ef12-4de6-be43-e6c8a5c74595",
   "metadata": {},
   "outputs": [
    {
     "name": "stdout",
     "output_type": "stream",
     "text": [
      "The modulus is: 3\n"
     ]
    }
   ],
   "source": [
    "a = 15\n",
    "b = 4\n",
    "x = a%b\n",
    "print (\"The modulus of a and b is:\", x)"
   ]
  },
  {
   "cell_type": "markdown",
   "id": "c15ed45a-59ce-431a-8954-31bcddacc37a",
   "metadata": {},
   "source": [
    "### Q2. Check the type and convert: (num1 = 10, num2 = 5.6, num3 = 4.43, num4='23')"
   ]
  },
  {
   "cell_type": "markdown",
   "id": "f6784453-06f9-4813-afd9-5f322234d646",
   "metadata": {},
   "source": [
    "#### Integer to float"
   ]
  },
  {
   "cell_type": "code",
   "execution_count": 36,
   "id": "5be117f2-46f6-467d-8372-a65bbb25f8e2",
   "metadata": {},
   "outputs": [
    {
     "name": "stdout",
     "output_type": "stream",
     "text": [
      "10.0\n",
      "<class 'float'>\n"
     ]
    }
   ],
   "source": [
    "num1 = 10\n",
    "print(float(num1))\n",
    "print(type(float(num1)))"
   ]
  },
  {
   "cell_type": "markdown",
   "id": "2557784f-8984-4d23-9377-b644c9259a94",
   "metadata": {},
   "source": [
    "#### Float to integer"
   ]
  },
  {
   "cell_type": "code",
   "execution_count": 37,
   "id": "4311391e-77dc-4a58-a8e9-23944c1068a1",
   "metadata": {},
   "outputs": [
    {
     "name": "stdout",
     "output_type": "stream",
     "text": [
      "5\n",
      "<class 'int'>\n"
     ]
    }
   ],
   "source": [
    "num2 = 5.6\n",
    "print(int(num2))\n",
    "print(type(int(num2)))"
   ]
  },
  {
   "cell_type": "markdown",
   "id": "7fcf93b3-a44f-4ad0-998b-dd8fd2bfddb9",
   "metadata": {},
   "source": [
    "#### Float to String"
   ]
  },
  {
   "cell_type": "code",
   "execution_count": 38,
   "id": "200255fa-aed4-4797-a914-5f7f04df33f6",
   "metadata": {},
   "outputs": [
    {
     "name": "stdout",
     "output_type": "stream",
     "text": [
      "4.43\n",
      "<class 'str'>\n"
     ]
    }
   ],
   "source": [
    "num3 = 4.43\n",
    "print(str(num3))\n",
    "print(type(str(num3)))"
   ]
  },
  {
   "cell_type": "markdown",
   "id": "3194eb4f-2242-44d7-b712-ab865d3a9456",
   "metadata": {},
   "source": [
    "#### String to Integer"
   ]
  },
  {
   "cell_type": "code",
   "execution_count": 39,
   "id": "1044eb89-82bd-493e-95c2-561d719bf66c",
   "metadata": {},
   "outputs": [
    {
     "name": "stdout",
     "output_type": "stream",
     "text": [
      "23\n",
      "<class 'int'>\n"
     ]
    }
   ],
   "source": [
    "num4 = '23'\n",
    "print(int(num4))\n",
    "print(type(int(num4)))"
   ]
  },
  {
   "cell_type": "markdown",
   "id": "99fe617b-26d5-4bc2-aa93-7207b70b1ac4",
   "metadata": {},
   "source": [
    "### Q3. Write a code to store your favorite food in a variable and print it."
   ]
  },
  {
   "cell_type": "code",
   "execution_count": 48,
   "id": "f008914a-7532-4e1a-89b4-7a76d9b20030",
   "metadata": {},
   "outputs": [
    {
     "name": "stdout",
     "output_type": "stream",
     "text": [
      "My favorite food is: Tikka Biryani\n"
     ]
    }
   ],
   "source": [
    "fav_food = \"Tikka Biryani\"\n",
    "print(\"My favorite food is:\", fav_food)"
   ]
  },
  {
   "cell_type": "markdown",
   "id": "379b736c-6870-4da7-9dbd-89a3c18be431",
   "metadata": {},
   "source": [
    "### Q4. \"I have 22 apples and 33 mangoes. How many fruits do I have in total?\""
   ]
  },
  {
   "cell_type": "code",
   "execution_count": 42,
   "id": "f013143e-e54c-4667-9f3d-58fd288bd387",
   "metadata": {},
   "outputs": [
    {
     "name": "stdout",
     "output_type": "stream",
     "text": [
      "Total fruites are: 55\n"
     ]
    }
   ],
   "source": [
    "apple = '22'\n",
    "mangoes = 33\n",
    "# convert apple into integer\n",
    "apple = int(apple)\n",
    "total_fruites = apple + mangoes\n",
    "print(\"Total fruites are:\", total_fruites)"
   ]
  },
  {
   "cell_type": "markdown",
   "id": "01e4adf6-3200-48c6-b2d8-b9bc5cffa57b",
   "metadata": {},
   "source": [
    "### Q5. Store in a varibale: Write Your name , Your age, Add 1 to your age using a variable, Print final age"
   ]
  },
  {
   "cell_type": "code",
   "execution_count": 2,
   "id": "edaabfa4-de5f-4f8e-85ce-dc49f71eb804",
   "metadata": {},
   "outputs": [
    {
     "name": "stdout",
     "output_type": "stream",
     "text": [
      "My name is: Umair Alam\n",
      "My age is: 25\n",
      "My age after year is: 26\n"
     ]
    }
   ],
   "source": [
    "my_name = \"Umair Alam\"\n",
    "my_age = 25\n",
    "age_after_year = my_age + 1\n",
    "print(\"My name is:\", my_name)\n",
    "print(\"My age is:\", my_age)\n",
    "print(\"My age after year is:\", age_after_year)"
   ]
  },
  {
   "cell_type": "markdown",
   "id": "80d4ad1f-48ef-4a9e-b932-3f95c6afacf2",
   "metadata": {},
   "source": [
    "### Q6. (a = 2, b = 1, c = 6, d = 3)"
   ]
  },
  {
   "cell_type": "code",
   "execution_count": 15,
   "id": "218d5d6c-49ec-447e-bf04-aa0dd86dcdba",
   "metadata": {},
   "outputs": [
    {
     "name": "stdout",
     "output_type": "stream",
     "text": [
      "The addition of a and b is: 3\n",
      "The subtraction of c and a is: 4\n",
      "The multiplication of d and b is: 3\n",
      "The float division of c and d is: 2.0\n",
      "The modulus of c and d is: 0\n",
      "The Square of (d + a) is: 25\n"
     ]
    }
   ],
   "source": [
    "a = 2\n",
    "b = 1\n",
    "c = 6\n",
    "d = 3\n",
    "\n",
    "# Add a and b\n",
    "m = a + b\n",
    "print(\"The addition of a and b is:\", m)\n",
    "\n",
    "# Subtract c and a\n",
    "n = c - a\n",
    "print(\"The subtraction of c and a is:\", n)\n",
    "\n",
    "# Multiply d and b\n",
    "o = d * b\n",
    "print(\"The multiplication of d and b is:\", o)\n",
    "\n",
    "# Divide c and d (float division)\n",
    "p = c / d\n",
    "print(\"The float division of c and d is:\", p)\n",
    "\n",
    "# Find modulus of c divided by d\n",
    "q = c % d\n",
    "print(\"The modulus of c and d is:\", q)\n",
    "\n",
    "# Square of (d+a)\n",
    "r = d + a \n",
    "r = r**2\n",
    "print(\"The Square of (d + a) is:\", r)\n"
   ]
  },
  {
   "cell_type": "markdown",
   "id": "31c0fea9-fb8f-47a8-8f3f-9f60d16d5cfb",
   "metadata": {},
   "source": [
    "### Q7. (a = '2', b = '11', c = 6.3)"
   ]
  },
  {
   "cell_type": "code",
   "execution_count": 6,
   "id": "9bd93bed-b741-4f63-94c0-7ea4a75c7680",
   "metadata": {},
   "outputs": [
    {
     "name": "stdout",
     "output_type": "stream",
     "text": [
      "Convert a to integer then add to c is: 8.3\n",
      "Convert b to float then multiply by c is: 69.3\n",
      "Convert c to integer then add to c is: 12\n"
     ]
    }
   ],
   "source": [
    "a = '2'\n",
    "b = '11'\n",
    "c = 6.3\n",
    "\n",
    "# Convert a to integer then add to c\n",
    "a = int(a)\n",
    "x = a + c\n",
    "print(\"Convert a to integer then add to c is:\", x)\n",
    "\n",
    "# Convert b to float then multiply by c\n",
    "b = float(b)\n",
    "y = b * c\n",
    "print(\"Convert b to float then multiply by c is:\", y)\n",
    "\n",
    "# Convert c to integer then add to c\n",
    "c = int(c)\n",
    "z  = c + c\n",
    "print(\"Convert c to integer then add to c is:\", z)"
   ]
  },
  {
   "cell_type": "markdown",
   "id": "45930651-0217-421e-afb0-71f6c23f16a2",
   "metadata": {},
   "source": [
    "### Q8. You were 20 years old in the year 2020. Now add 5 more years to your age.What is your current age now? Store age in a variable called age. Print final output in same variable"
   ]
  },
  {
   "cell_type": "code",
   "execution_count": 31,
   "id": "6ee6c2b6-a0e1-45bc-9399-710a9a5ea7ac",
   "metadata": {},
   "outputs": [
    {
     "name": "stdout",
     "output_type": "stream",
     "text": [
      "My age in 2020 is: 20\n",
      "My current age after 5 years is: 25\n"
     ]
    }
   ],
   "source": [
    "my_age = 20\n",
    "print(\"My age in 2020 is:\", my_age)\n",
    "my_age = my_age + 5\n",
    "print(\"My current age after 5 years is:\", my_age)\n"
   ]
  },
  {
   "cell_type": "markdown",
   "id": "f62486e6-f240-47a6-a7be-f45b6bd0e1e7",
   "metadata": {},
   "source": [
    "### Q9.You had 12 books, and you gave 4 to your friend.How many books do you have now? Store books in a variable called books. Print final output in same variable"
   ]
  },
  {
   "cell_type": "code",
   "execution_count": 3,
   "id": "fe1f1a5e-5e11-40f7-817a-e23a0d122453",
   "metadata": {},
   "outputs": [
    {
     "name": "stdout",
     "output_type": "stream",
     "text": [
      "Total books = 12\n",
      "After i lend a four books to my friend =  8\n"
     ]
    }
   ],
   "source": [
    "books = 12\n",
    "print(\"Total books =\", books)\n",
    "books = books - 4\n",
    "print(\"After i lend a four books to my friend = \", books)"
   ]
  },
  {
   "cell_type": "markdown",
   "id": "d95a4652-3c51-4809-be95-188a31f19d8a",
   "metadata": {},
   "source": [
    "### Q10.You baked 5 cookies. You baked 3 times more cookies today.How many cookies did you bake today? Store cookies in a variable called cookies. Print final output in same variable"
   ]
  },
  {
   "cell_type": "code",
   "execution_count": 4,
   "id": "e33c403f-9437-4b0d-b6fd-4eee0387e731",
   "metadata": {},
   "outputs": [
    {
     "name": "stdout",
     "output_type": "stream",
     "text": [
      "Total cookies baked today = 15\n"
     ]
    }
   ],
   "source": [
    "cookies = 5\n",
    "cookies = cookies*3\n",
    "print(\"Total cookies baked today =\", cookies)"
   ]
  },
  {
   "cell_type": "code",
   "execution_count": null,
   "id": "ef5da1ba-b1bb-4aee-9a28-0019b31cb94c",
   "metadata": {},
   "outputs": [],
   "source": []
  },
  {
   "cell_type": "code",
   "execution_count": null,
   "id": "f1808873-73fa-4d02-9f4c-dc8af6800a85",
   "metadata": {},
   "outputs": [],
   "source": []
  }
 ],
 "metadata": {
  "kernelspec": {
   "display_name": "Python 3 (ipykernel)",
   "language": "python",
   "name": "python3"
  },
  "language_info": {
   "codemirror_mode": {
    "name": "ipython",
    "version": 3
   },
   "file_extension": ".py",
   "mimetype": "text/x-python",
   "name": "python",
   "nbconvert_exporter": "python",
   "pygments_lexer": "ipython3",
   "version": "3.13.5"
  }
 },
 "nbformat": 4,
 "nbformat_minor": 5
}
