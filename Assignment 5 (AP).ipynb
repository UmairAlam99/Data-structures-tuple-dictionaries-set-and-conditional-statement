{
 "cells": [
  {
   "cell_type": "raw",
   "id": "6c64ce68-7683-47db-b1cf-46c8c72f13a6",
   "metadata": {},
   "source": [
    "Q1. An e-commerce store stores information about its products in a nested dictionary. The outer dictionary uses product IDs as keys, and the inner dictionary stores product details like name, category, price, and stock quantity. products = { 101: {\"name\": \"Laptop\", \"category\": \"Electronics\", \"price\": 1200, \"stock\": 50}, 102: {\"name\": \"Shirt\", \"category\": \"Apparel\", \"price\": 25, \"stock\": 200}, 103: {\"name\": \"Coffee Maker\", \"category\": \"Home Appliances\", \"price\": 80, \"stock\": 30} }\n",
    "\n",
    "• Increase the stock of the \"Shirt\" product (add 50 more units) using increment/decrement operators\n",
    "\n",
    "• Add a new product (e.g., \"Smartphone\")\n",
    "\n",
    "Expected Output:\n",
    "\n",
    "{101: {'name': 'Laptop', 'category': 'Electronics', 'price': 1200, 'stock': 50}, 102: {'name': 'Shirt', 'category': 'Apparel', 'price': 25, 'stock': 250}, 103: {'name': 'Coffee Maker', 'category': 'Home Appliances', 'price': 80, 'stock': 30}}\n",
    "{101: {'name': 'Laptop', 'category': 'Electronics', 'price': 1200, 'stock': 50}, 102: {'name': 'Shirt', 'category': 'Apparel', 'price': 25, 'stock': 250}, 103: {'name': 'Coffee Maker', 'category': 'Home Appliances', 'price': 80, 'stock': 30}, 104: {'name': 'Smartphone', 'category': 'Electronics', 'price': 800, 'stock': 100}}r"
   ]
  },
  {
   "cell_type": "code",
   "execution_count": null,
   "id": "bc8a37f6-8056-416b-b60f-63087334b5c7",
   "metadata": {},
   "outputs": [],
   "source": [
    "ecommerce_store = {\n",
    "    101:{ \"name\": \"laptop\",\n",
    "           \"category\": \"electronics\",\n",
    "           \"price\": 1200,\n",
    "           \"stock\": 50\n",
    "    },\n",
    "    102:{\"name\": \"Shirt\",\n",
    "          \"category\": \"Apparel\",\n",
    "          \"price\": 25,\n",
    "          \"stock\": 200\n",
    "         },\n",
    "    103:{\"name\": \"Coffee Maker\",\n",
    "           \"category\": \"Home Appliances\",\n",
    "           \"price\": 80,\n",
    "           \"stock\": 30\n",
    "          }\n",
    "}\n",
    "print(\"My ecommerce_store's stock is: \",ecommerce_store)\n",
    "\n",
    "# Increase the stock of the \"Shirt\" product (add 50 more units) using increment/decrement operators\n",
    "ecommerce_store[102][\"stock\"] += 50 \n",
    "# Add a new product (e.g., \"Smartphone\")\n",
    "ecommerce_store.update({\n",
    "    104: {'name': 'Smartphone',\n",
    "          'category': 'Electronics',\n",
    "          'price': 800,\n",
    "          'stock': 100\n",
    "         },\n",
    "})\n",
    "print(\"My updated stock is: \",ecommerce_store)"
   ]
  },
  {
   "cell_type": "raw",
   "id": "9c39e6cb-caa5-4ec1-ac34-95dacd47c111",
   "metadata": {},
   "source": [
    " Q2. You are given a list that contains some duplicate items. Remove the duplicates by converting the list to a set. Final output should be in list\n",
    "\n",
    "shopping_list = [\"apple\", \"banana\", \"apple\", \"orange\", \"banana\", \"grape\"]\n",
    "\n",
    "Expected Output:\n",
    "['apple', 'grape', 'banana', 'orange']"
   ]
  },
  {
   "cell_type": "code",
   "execution_count": null,
   "id": "5a92fc79-ac6a-45db-9f61-b7f39c1fefde",
   "metadata": {},
   "outputs": [],
   "source": [
    "shopping_list = [\"apple\", \"banana\", \"apple\", \"orange\", \"banana\", \"grape\"]\n",
    "remove_duplicates = list(set(shopping_list))\n",
    "print(remove_duplicates)"
   ]
  },
  {
   "cell_type": "raw",
   "id": "bfc09754-4352-44f7-9a0b-2cc9e05355ba",
   "metadata": {},
   "source": [
    "Q3. You are managing a list of students enrolled in two different courses. You need to perform various set operations to understand the student enrollment. Task: Create two sets: one for students in \"Course A\" and one for students in \"Course B\". Find the students who are in \"Course A\" but not in \"Course B\" (difference). Find students who are only in one of the two courses (symmetric difference). course_a = {\"John\", \"Alice\", \"Bob\", \"David\"} course_b = {\"Alice\", \"Eve\", \"Charlie\", \"David\"}\n",
    "\n",
    "Using set methods\n",
    "\n",
    "• Find students who are in Course A but not in Course B (difference)\n",
    "\n",
    "• Find students who are only in one of the two courses (symmetric difference)\n",
    "\n",
    "Expected Output:\n",
    "\n",
    "Students in Course A but not in Course B: {'Bob', 'John'}\n",
    "\n",
    "Students only in one of the two courses: {'Eve', 'John', 'Bob', 'Charlie'}\n"
   ]
  },
  {
   "cell_type": "code",
   "execution_count": null,
   "id": "b5af0f1f-2c35-483e-879c-ca19dd31fb4b",
   "metadata": {},
   "outputs": [],
   "source": [
    "course_a = {\"John\", \"Alice\", \"Bob\", \"David\"}\n",
    "course_b = {\"Alice\", \"Eve\", \"Charlie\", \"David\"}\n",
    "\n",
    "# Find students who are in Course A but not in Course B (difference)\n",
    "students_in_a = course_a - course_b\n",
    "print(\"Students in Course A : \",students_in_a)\n",
    "\n",
    "# Find students who are only in one of the two courses (symmetric difference)\n",
    "print(\"Students only in one of the two courses:\",course_b.symmetric_difference(course_a))\n",
    "\n",
    "\n"
   ]
  },
  {
   "cell_type": "raw",
   "id": "b5bed1d2-1498-47b2-b27d-54f67415d3ac",
   "metadata": {},
   "source": [
    "Q4. Write a Python program to store and display the details of a book.\n",
    "The program should ask the user to input the following information:\n",
    "Title of the book\n",
    "Author’s name\n",
    "Year of publication\n",
    "Price of the booK\n",
    "Store the entered details in a tuple.\n",
    "Finally, display the book details in a proper format as shown below:\n",
    "Expected Output:\n",
    "Title: Harry Potter\n",
    "Author: JK Rowlings\n",
    "Year of Publication: 2000\n",
    "Price: $180.0"
   ]
  },
  {
   "cell_type": "code",
   "execution_count": 16,
   "id": "cf7b4fe5-1a85-4551-add8-c53265536836",
   "metadata": {},
   "outputs": [
    {
     "name": "stdin",
     "output_type": "stream",
     "text": [
      "Enter the title of the book:  fg\n",
      "Enter the author's name:  gb\n",
      "Enter the year of publication:  rtb\n",
      "Enter the price of the book:  rtb\n"
     ]
    },
    {
     "name": "stdout",
     "output_type": "stream",
     "text": [
      "Book Details:\n",
      "Title: fg\n",
      "Author: gb\n",
      "Year of Publication: rtb\n",
      "Price: $ rtb\n"
     ]
    }
   ],
   "source": [
    "title = input(\"Enter the title of the book: \")\n",
    "author = input(\"Enter the author's name: \")\n",
    "year = input(\"Enter the year of publication: \")\n",
    "price = input(\"Enter the price of the book: \")\n",
    "book_details = (title, author, year, price)\n",
    "print(\"Book Details:\")\n",
    "print(\"Title:\", book_details[0])\n",
    "print(\"Author:\", book_details[1])\n",
    "print(\"Year of Publication:\", book_details[2])\n",
    "print(\"Price: $\", book_details[3])"
   ]
  },
  {
   "cell_type": "raw",
   "id": "3c134518-485c-4044-b337-f2ff81580ed4",
   "metadata": {},
   "source": [
    "Q5. Write a program to check if a user’s chosen subject is available in the list of offered subjects.\n",
    "Instructions:\n",
    "Given a list of subjects, ask the user to input a subject.\n",
    "Display whether the subject is available or not.\n",
    "Expected Output:\n",
    "Enter the subject you are interested in:  art\n",
    "art is available."
   ]
  },
  {
   "cell_type": "code",
   "execution_count": 5,
   "id": "35663703-34c8-4ed6-b98d-925bc6ac0f39",
   "metadata": {},
   "outputs": [
    {
     "name": "stdin",
     "output_type": "stream",
     "text": [
      "Enter a subject: j\n"
     ]
    },
    {
     "name": "stdout",
     "output_type": "stream",
     "text": [
      "Subject is not available\n"
     ]
    }
   ],
   "source": [
    "list_of_subjects = [\"Mathamatics\",\"Urdu\",\"English\",\"Science\",\"Art\",\"Computer\",\"Islamiyat\",\"Physics\"]\n",
    "user = input((\"Enter a subject:\")).title()\n",
    "if user in list_of_subjects:\n",
    "    print(\"Subject is available\")\n",
    "else:\n",
    "    print(\"Subject is not available\")"
   ]
  },
  {
   "cell_type": "raw",
   "id": "ada17c87-43c3-487b-84a6-0ad9e336a011",
   "metadata": {},
   "source": [
    "Q6. Write a Python program that asks the user to enter a number.\n",
    "If the number is greater than 0, print \"Positive\".\n",
    "If the number is less than 0, print \"Negative\".\n",
    "If the number is exactly 0, print \"Zero\".\n",
    "Expected Output:\n",
    "Enter a number:  2\n",
    "The number is Positive\n",
    "Enter a number:  0\n",
    "The number is Zero\n",
    "Enter a number:  -1\n",
    "The number is Negative"
   ]
  },
  {
   "cell_type": "code",
   "execution_count": null,
   "id": "c4cf2267-c763-4554-b649-934314fc20f8",
   "metadata": {},
   "outputs": [],
   "source": [
    "user_number = int(input((\"Enter a number:\")))\n",
    "if user_number < 0:\n",
    "    print(\"The number is negative\")\n",
    "if user_number > 0:\n",
    "    print(\"The number is positive\")\n",
    "if user_number == 0:\n",
    "    print(\"The number is zero\")\n",
    "    "
   ]
  },
  {
   "cell_type": "raw",
   "id": "73a544b9-375a-4e3c-a845-bdace79ee3cf",
   "metadata": {},
   "source": [
    "Q7. Write a Python program that simulates a simple login system.\n",
    "The correct username is 'admin' and the correct password is 'admin@123'\n",
    "The program should take username and password as input from the user.\n",
    "It should check the input and display messages according to the following conditions:\n",
    "- If both username and password are correct → print \"Login Successful\".\n",
    "- If username is wrong but password is correct → print \"Invalid Username\".\n",
    "- If username is correct but password is wrong → print \"Invalid Password\".\n",
    "- If both username and password are wrong → print \"Invalid Username and Password\"."
   ]
  },
  {
   "cell_type": "code",
   "execution_count": 7,
   "id": "8605036e-c6d4-4a5a-9480-0ae43e44adb3",
   "metadata": {},
   "outputs": [
    {
     "name": "stdin",
     "output_type": "stream",
     "text": [
      "Enter a your correct username:  admin\n",
      "Enter a your correct password:  mk\n"
     ]
    },
    {
     "name": "stdout",
     "output_type": "stream",
     "text": [
      "Invalid Password\n"
     ]
    }
   ],
   "source": [
    "user_name = \"admin\"\n",
    "user_password = \"admin@123\"\n",
    "user_input = input(\"Enter a your correct username: \")\n",
    "password_input = input(\"Enter a your correct password: \")\n",
    "if user_input == user_name and password_input == user_password:\n",
    "    print(\"Login Successful\")\n",
    "elif user_name != user_input and password_input == user_password:\n",
    "    print(\"Invalid Username\")\n",
    "elif user_name == user_input and password_input != user_password:\n",
    "    print(\"Invalid Password\")\n",
    "else:\n",
    "    print(\"Invalid Username and Password\")\n"
   ]
  },
  {
   "cell_type": "code",
   "execution_count": null,
   "id": "71e1eae3-52de-4298-84f2-ffafac9e82b5",
   "metadata": {},
   "outputs": [],
   "source": []
  },
  {
   "cell_type": "raw",
   "id": "f68c8566-3303-40ea-bc23-04835bb1f9d7",
   "metadata": {},
   "source": [
    "Q8.\n",
    "student_details = {\n",
    "    \"Ali\": {\"age\": 20, \"grade\": \"A\", \"city\": \"Karachi\"},\n",
    "    \"Sara\": {\"age\": 21, \"grade\": \"B\", \"city\": \"Lahore\"},\n",
    "    \"Omar\": {\"age\": 19, \"grade\": \"A\", \"city\": \"Islamabad\"},\n",
    "    \"Hina\": {\"age\": 22, \"grade\": \"C\", \"city\": \"Faisalabad\"}\n",
    "}\n",
    "- Add a new student using method:\n",
    "  \"Zara\": {\"age\": 20, \"grade\": \"B\", \"city\": \"Multan\"}\n",
    "- Remove a student \"Omer\" using method\n",
    "Expected Output:\n",
    "{'Ali': {'age': 20, 'grade': 'A', 'city': 'Karachi'}, 'Sara': {'age': 21, 'grade': 'B', 'city': 'Lahore'}, 'Hina': {'age': 22, 'grade': 'C', 'city': 'Faisalabad'}, 'Zara': {'age': 20, 'grade': 'B', 'city': 'Multan'}}\n",
    "  "
   ]
  },
  {
   "cell_type": "code",
   "execution_count": 3,
   "id": "e68307b0-8eb4-4317-99be-1b79fc04ebfc",
   "metadata": {},
   "outputs": [
    {
     "name": "stdout",
     "output_type": "stream",
     "text": [
      "Student details:  {'Ali': {'age': 20, 'grade': 'A', 'city': 'Karachi'}, 'Sara': {'age': 21, 'grade': 'B', 'city': 'Lahore'}, 'Omar': {'age': 19, 'grade': 'A', 'city': 'Islamabad'}, 'Hina': {'age': 22, 'grade': 'C', 'city': 'Faisalabad'}}\n",
      " \n",
      "Updated student details:  {'Ali': {'age': 20, 'grade': 'A', 'city': 'Karachi'}, 'Sara': {'age': 21, 'grade': 'B', 'city': 'Lahore'}, 'Omar': {'age': 19, 'grade': 'A', 'city': 'Islamabad'}, 'Hina': {'age': 22, 'grade': 'C', 'city': 'Faisalabad'}, 'Zara': {'age': 20, 'grade': 'B', 'city': 'Multan'}}\n",
      " \n",
      "Most updated student details:  {'Ali': {'age': 20, 'grade': 'A', 'city': 'Karachi'}, 'Sara': {'age': 21, 'grade': 'B', 'city': 'Lahore'}, 'Hina': {'age': 22, 'grade': 'C', 'city': 'Faisalabad'}, 'Zara': {'age': 20, 'grade': 'B', 'city': 'Multan'}}\n"
     ]
    }
   ],
   "source": [
    "student_details = {\n",
    "    \"Ali\": {\"age\": 20, \"grade\": \"A\", \"city\": \"Karachi\"},\n",
    "    \"Sara\": {\"age\": 21, \"grade\": \"B\", \"city\": \"Lahore\"},\n",
    "    \"Omar\": {\"age\": 19, \"grade\": \"A\", \"city\": \"Islamabad\"},\n",
    "    \"Hina\": {\"age\": 22, \"grade\": \"C\", \"city\": \"Faisalabad\"}\n",
    "}\n",
    "print(\"Student details: \",student_details)\n",
    "print(\" \")\n",
    "# Add a new student using method:\n",
    "student_details.update({\n",
    "      \"Zara\": {\"age\": 20, \"grade\": \"B\", \"city\": \"Multan\"}\n",
    "})\n",
    "print(\"Updated student details: \",student_details)\n",
    "print(\" \")\n",
    "# Remove a student \"Omer\" using method\n",
    "student_details.pop(\"Omar\")\n",
    "print(\"Most updated student details: \",student_details)"
   ]
  },
  {
   "cell_type": "raw",
   "id": "ca050aae-8d37-41b0-821f-f02b890dbd5e",
   "metadata": {},
   "source": [
    "Q9. Write program to check a person’s eligibility for a loan based on age, credit score, and income. This time, the eligibility criteria will be:\n",
    "\n",
    "The person must be 18 years or older. The person must have a credit score of 650 or higher. The person must have an annual income of at least 30000 dollars If the person has a credit score of 700 or higher, they may still be eligible with an income of 25000 dollars or more.\n",
    "Expected Output:\n",
    "Enter your age:  22\n",
    "Enter your credit score:  888\n",
    "Enter your annual income: $ 800000\n",
    "You are eligible for the loan!\n",
    "\n",
    "---\n",
    "Enter your age:  15\n",
    "Enter your credit score:  800\n",
    "Enter your annual income: $ 900000\n",
    "You are not eligible for the loan due to age.\n",
    "\n",
    "---\n",
    "Enter your age:  35\n",
    "Enter your credit score:  99\n",
    "Enter your annual income: $ 900000\n",
    "You are not eligible for the loan due to low credit score."
   ]
  },
  {
   "cell_type": "code",
   "execution_count": 15,
   "id": "59d6208f-26b2-404d-980e-3ea6133a3fe2",
   "metadata": {},
   "outputs": [
    {
     "name": "stdin",
     "output_type": "stream",
     "text": [
      "Enter your age:  23\n",
      "Enter your credit_score:  10009\n",
      "Enter your annual_income:  10000\n"
     ]
    },
    {
     "ename": "TypeError",
     "evalue": "'>=' not supported between instances of 'str' and 'int'",
     "output_type": "error",
     "traceback": [
      "\u001b[1;31m---------------------------------------------------------------------------\u001b[0m",
      "\u001b[1;31mTypeError\u001b[0m                                 Traceback (most recent call last)",
      "Cell \u001b[1;32mIn[15], line 4\u001b[0m\n\u001b[0;32m      2\u001b[0m credit_score \u001b[38;5;241m=\u001b[39m \u001b[38;5;28mint\u001b[39m(\u001b[38;5;28minput\u001b[39m(\u001b[38;5;124m\"\u001b[39m\u001b[38;5;124mEnter your credit_score: \u001b[39m\u001b[38;5;124m\"\u001b[39m))\n\u001b[0;32m      3\u001b[0m annual_income \u001b[38;5;241m=\u001b[39m \u001b[38;5;28mfloat\u001b[39m(\u001b[38;5;28minput\u001b[39m(\u001b[38;5;124m\"\u001b[39m\u001b[38;5;124mEnter your annual_income: \u001b[39m\u001b[38;5;124m\"\u001b[39m))\n\u001b[1;32m----> 4\u001b[0m \u001b[38;5;28;01mif\u001b[39;00m age \u001b[38;5;241m>\u001b[39m\u001b[38;5;241m=\u001b[39m \u001b[38;5;241m18\u001b[39m:\n\u001b[0;32m      5\u001b[0m     \u001b[38;5;28;01mif\u001b[39;00m credit_score \u001b[38;5;241m>\u001b[39m\u001b[38;5;241m=\u001b[39m \u001b[38;5;241m650\u001b[39m:\n\u001b[0;32m      6\u001b[0m         \u001b[38;5;28;01mif\u001b[39;00m annual_incomeincome \u001b[38;5;241m>\u001b[39m\u001b[38;5;241m=\u001b[39m \u001b[38;5;241m30000\u001b[39m:\n",
      "\u001b[1;31mTypeError\u001b[0m: '>=' not supported between instances of 'str' and 'int'"
     ]
    }
   ],
   "source": [
    "age = input(\"Enter your age: \")\n",
    "credit_score = int(input(\"Enter your credit_score: \"))\n",
    "annual_income = float(input(\"Enter your annual_income: \"))\n",
    "if age >= 18:\n",
    "    if credit_score >= 650:\n",
    "        if annual_incomeincome >= 30000:\n",
    "            print(\"You are eligible for the loan!\")\n",
    "        else:\n",
    "            print(\"You are not eligible for the loan due to low income.\")\n",
    "    elif credit_score >= 700:\n",
    "        if annual_income >= 25000:\n",
    "            print(\"You are eligible for the loan!\")\n",
    "        else:\n",
    "            print(\"You are not eligible for the loan due to low income.\")\n",
    "    else:\n",
    "        print(\"You are not eligible for the loan due to low credit score.\")\n",
    "else:\n",
    "    print(\"You are not eligible for the loan due to age.\")\n",
    "    "
   ]
  },
  {
   "cell_type": "raw",
   "id": "556a99cd-34e7-4860-b623-9e3124e3123a",
   "metadata": {},
   "source": [
    "Q10. Write a Python program to check whether the entered letter is a vowel, a consonant, or invalid input.\n",
    "\n",
    "The program should take a single character as input. If the character is a vowel (a, e, i, o, u in both upper and lower case), it will print \"Vowel\". If it is an alphabet but not a vowel, it will print \"Consonant\". Otherwise, it will print \"Please enter valid alphabet\".\n",
    "Expected Output:\n",
    "Enter a single letter:  a\n",
    "a is a Vowel\n",
    "\n",
    "---\n",
    "Enter a single letter:  E\n",
    "E is a Vowel\n",
    "\n",
    "---\n",
    "\n",
    "Enter a single letter:  z\n",
    "\n",
    "z is a Consonant\n",
    "\n",
    "---\n",
    "\n",
    "Enter a single letter:  7\n",
    "\n",
    "Please enter valid alphabet\n"
   ]
  },
  {
   "cell_type": "code",
   "execution_count": 14,
   "id": "57907cc5-a251-4209-bc07-3dca3865158c",
   "metadata": {},
   "outputs": [
    {
     "name": "stdin",
     "output_type": "stream",
     "text": [
      "Enter a single letter:  A\n"
     ]
    },
    {
     "name": "stdout",
     "output_type": "stream",
     "text": [
      "A is a Vowel\n"
     ]
    }
   ],
   "source": [
    "alphabet = input(\"Enter a single letter: \")\n",
    "if alphabet.isalpha() and len(alphabet) == 1:\n",
    "    \n",
    "    if alphabet.lower() in [\"a\",\"e\",\"i\",\"o\",\"u\"]:\n",
    "        print(f\"{alphabet} is a Vowel\")\n",
    "    else:\n",
    "        print(f\"{alphabet} is a Consonant\")\n",
    "else:\n",
    "    print(\"Please enter valid alphabet\")"
   ]
  },
  {
   "cell_type": "code",
   "execution_count": null,
   "id": "14453c10-e8a4-4b73-b656-be47da77d27c",
   "metadata": {},
   "outputs": [],
   "source": []
  },
  {
   "cell_type": "code",
   "execution_count": null,
   "id": "afc26dfa-33c5-434d-8c6d-f20c6595c88b",
   "metadata": {},
   "outputs": [],
   "source": []
  },
  {
   "cell_type": "code",
   "execution_count": null,
   "id": "2a872489-d93e-47b0-99c4-08881e57fcf8",
   "metadata": {},
   "outputs": [],
   "source": []
  }
 ],
 "metadata": {
  "kernelspec": {
   "display_name": "Python 3 (ipykernel)",
   "language": "python",
   "name": "python3"
  },
  "language_info": {
   "codemirror_mode": {
    "name": "ipython",
    "version": 3
   },
   "file_extension": ".py",
   "mimetype": "text/x-python",
   "name": "python",
   "nbconvert_exporter": "python",
   "pygments_lexer": "ipython3",
   "version": "3.13.5"
  }
 },
 "nbformat": 4,
 "nbformat_minor": 5
}
