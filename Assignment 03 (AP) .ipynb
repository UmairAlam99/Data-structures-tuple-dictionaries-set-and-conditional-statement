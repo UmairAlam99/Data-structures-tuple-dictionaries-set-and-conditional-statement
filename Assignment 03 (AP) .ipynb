{
 "cells": [
  {
   "cell_type": "raw",
   "id": "db698fe5-c4b6-4e80-9fb9-620850753d74",
   "metadata": {},
   "source": [
    "Q1) animals = [\"cat\", \"dog\", \"rabbit\", \"tiger\", \"elephant\"]\n",
    "\n",
    "Print \"tiger\" by indexing\n",
    "Print \"rabbit by negative indexing\n",
    "Print \"rabbit\" to \"elephant\" by slicing\n"
   ]
  },
  {
   "cell_type": "code",
   "execution_count": 1,
   "id": "94631981-68b4-46aa-afd0-2f975d195750",
   "metadata": {},
   "outputs": [
    {
     "name": "stdout",
     "output_type": "stream",
     "text": [
      "tiger\n",
      "rabbit\n",
      "['rabbit', 'tiger', 'elephant']\n"
     ]
    }
   ],
   "source": [
    "animals = [\"cat\", \"dog\", \"rabbit\", \"tiger\", \"elephant\"]\n",
    "\n",
    "# Print \"tiger\" by indexing\n",
    "print(animals[3])\n",
    "\n",
    "# Print \"rabbit by negative indexing\n",
    "print(animals[-3])\n",
    "\n",
    "# Print \"rabbit\" to \"elephant\" by slicing\n",
    "print(animals[2:])"
   ]
  },
  {
   "cell_type": "raw",
   "id": "57795874-0b2e-4d67-a4c3-b4d1edb1deca",
   "metadata": {},
   "source": [
    "Q2. animals = [\"cat\", \"dog\", \"rabbit\", \"tiger\", \"elephant\"]\n",
    "\n",
    "Add \"lion\" to the list of animals by list method append\n",
    "\n",
    "Remove \"rabbit\" from the list by list method remove\n",
    "\n",
    "Print the updated list."
   ]
  },
  {
   "cell_type": "code",
   "execution_count": 2,
   "id": "6e4faedc-bb58-4865-9a34-7c4702378bfe",
   "metadata": {},
   "outputs": [
    {
     "name": "stdout",
     "output_type": "stream",
     "text": [
      "['cat', 'dog', 'tiger', 'elephant', 'lion']\n"
     ]
    }
   ],
   "source": [
    "# Add \"lion\" to the list of animals by list method append\n",
    "animals.append(\"lion\")\n",
    "\n",
    "# Remove \"rabbit\" from the list by list method remove\n",
    "animals.remove(\"rabbit\")\n",
    "\n",
    "# Print the updated list.\n",
    "print(animals)"
   ]
  },
  {
   "cell_type": "raw",
   "id": "db70ec24-4590-4f38-abee-e941043c29f6",
   "metadata": {},
   "source": [
    "Q3. basket = [[\"apple\", \"banana\", \"mango\"], [\"red\", \"blue\", \"green\", \"black\"]]\n",
    "\n",
    "- print list of fruits\n",
    "- print list of colors\n",
    "- print second fruit by negative indexing\n",
    "- replace color \"blue\" with \"white\"\n",
    "- print length of colors list"
   ]
  },
  {
   "cell_type": "code",
   "execution_count": 3,
   "id": "299fa711-73ac-42ca-ba6e-7b22aae87449",
   "metadata": {},
   "outputs": [
    {
     "name": "stdout",
     "output_type": "stream",
     "text": [
      "The list of fruites is: ['apple', 'banana', 'mango']\n",
      "The list of colors is: ['red', 'blue', 'green', 'black']\n",
      "banana\n",
      "[['apple', 'banana', 'mango'], ['red', 'white', 'green', 'black']]\n",
      "4\n"
     ]
    }
   ],
   "source": [
    "basket = [[\"apple\", \"banana\", \"mango\"], [\"red\", \"blue\", \"green\", \"black\"]]\n",
    "# - print list of fruits\n",
    "print(\"The list of fruites is:\", basket[0])\n",
    "\n",
    "# - print list of colors\n",
    "print(\"The list of colors is:\", basket[1])\n",
    "\n",
    "# - print second fruit by negative indexing\n",
    "print(basket[0][-2])\n",
    "\n",
    "# - replace color \"blue\" with \"white\"\n",
    "basket[1][1] = \"white\"\n",
    "print(basket)\n",
    "\n",
    "# - print length of colors list\n",
    "print(len(basket[1]))"
   ]
  },
  {
   "cell_type": "raw",
   "id": "4e7c99e7-3171-436a-8e2e-e8a44b171994",
   "metadata": {},
   "source": [
    "Q4. food = [\"pizza\", \"burger\", \"fries\", \"burger\", \"pasta\", \"burger\", \"biryani\", \"fries\"]\n",
    "\n",
    "- Add \"sandwich\" to the end of the list.\n",
    "- Insert \"biryani\" at index 2."
   ]
  },
  {
   "cell_type": "code",
   "execution_count": 4,
   "id": "58441366-70d9-4420-9510-1b74624e53e1",
   "metadata": {},
   "outputs": [
    {
     "name": "stdout",
     "output_type": "stream",
     "text": [
      "['pizza', 'burger', 'fries', 'burger', 'pasta', 'burger', 'biryani', 'fries', 'sandwich']\n",
      "['pizza', 'burger', 'biryani', 'fries', 'burger', 'pasta', 'burger', 'biryani', 'fries', 'sandwich']\n"
     ]
    }
   ],
   "source": [
    "food = [\"pizza\", \"burger\", \"fries\", \"burger\", \"pasta\", \"burger\", \"biryani\", \"fries\"]\n",
    "\n",
    "# - Add \"sandwich\" to the end of the list.\n",
    "food.append(\"sandwich\")\n",
    "print(food)\n",
    "\n",
    "# - Insert \"biryani\" at index 2.\n",
    "food.insert(2,\"biryani\")\n",
    "print(food)  "
   ]
  },
  {
   "cell_type": "raw",
   "id": "694d1bd0-47dd-4119-8398-e4cee47acf69",
   "metadata": {},
   "source": [
    "Q5.\n",
    "- Sort the food list in alphabetical order\n",
    "- Reverse the order of the list food"
   ]
  },
  {
   "cell_type": "code",
   "execution_count": 5,
   "id": "0c9183d1-04ba-48ce-8db2-3542cf07ba34",
   "metadata": {},
   "outputs": [
    {
     "name": "stdout",
     "output_type": "stream",
     "text": [
      "['biryani', 'biryani', 'burger', 'burger', 'burger', 'fries', 'fries', 'pasta', 'pizza', 'sandwich']\n",
      "['sandwich', 'pizza', 'pasta', 'fries', 'fries', 'burger', 'burger', 'burger', 'biryani', 'biryani']\n"
     ]
    }
   ],
   "source": [
    "# - Sort the food list in alphabetical order\n",
    "food.sort() # for acending order\n",
    "print(food)\n",
    "\n",
    "# - Reverse the order of the list food\n",
    "food.reverse() # for reverse (just flip the list not decending) \n",
    "print(food)\n",
    "\n",
    "# for decendng\n",
    "\n",
    "# food.sort(reverse = True)\n",
    "# print(food)"
   ]
  },
  {
   "cell_type": "raw",
   "id": "2cde1e7f-611a-4dcb-969f-e4bd8a9c077d",
   "metadata": {},
   "source": [
    "Q6.\n",
    "- Find the index of \"pasta\" and print it from the list of food\n",
    "- Count how many times \"pizza\" appears in list food"
   ]
  },
  {
   "cell_type": "code",
   "execution_count": 6,
   "id": "8b405913-470e-4337-9c7b-1bfa66f074c6",
   "metadata": {},
   "outputs": [
    {
     "name": "stdout",
     "output_type": "stream",
     "text": [
      "['sandwich', 'pizza', 'pasta', 'fries', 'fries', 'burger', 'burger', 'burger', 'biryani', 'biryani']\n",
      "The index number of pasta is: 2\n",
      "pasta\n",
      "Total burgers in the list is: 3\n"
     ]
    }
   ],
   "source": [
    "# - Find the index of \"pasta\" and print it from the list of food\n",
    "print(food)\n",
    "index_number = food.index(\"pasta\")\n",
    "print(\"The index number of pasta is:\", index_number)\n",
    "print(food[2])\n",
    "\n",
    "# - Count how many times \"pizza\" appears in list food\n",
    "count_of_burgers = food.count(\"burger\")\n",
    "print(\"Total burgers in the list is:\", count_of_burgers)"
   ]
  },
  {
   "cell_type": "raw",
   "id": "a50ac02b-d91b-4eb3-8a7f-b36e829f18a4",
   "metadata": {},
   "source": [
    "Q7.\n",
    "- Remove \"burger\" (only the first one) from the list food.\n",
    "- Remove the last item using pop() and print it."
   ]
  },
  {
   "cell_type": "code",
   "execution_count": 7,
   "id": "3fb98ce4-b346-4037-8ce7-d51bb9711719",
   "metadata": {},
   "outputs": [
    {
     "name": "stdout",
     "output_type": "stream",
     "text": [
      "Before remove first one burger in the list is: ['sandwich', 'pizza', 'pasta', 'fries', 'fries', 'burger', 'burger', 'burger', 'biryani', 'biryani']\n",
      "\n",
      "After remove first one burger in the list is: ['sandwich', 'pizza', 'pasta', 'fries', 'fries', 'burger', 'burger', 'biryani', 'biryani']\n",
      "\n",
      "after pop last value of list is: ['sandwich', 'pizza', 'pasta', 'fries', 'fries', 'burger', 'burger', 'biryani']\n"
     ]
    }
   ],
   "source": [
    "# - Remove \"burger\" (only the first one) from the list food.\n",
    "print(\"Before remove first one burger in the list is:\", food)\n",
    "print()\n",
    "food.remove(\"burger\")\n",
    "print(\"After remove first one burger in the list is:\", food)\n",
    "print()\n",
    "# - Remove the last item using pop() and print it.\n",
    "food.pop(-1)\n",
    "print(\"after pop last value of list is:\", food)"
   ]
  },
  {
   "cell_type": "raw",
   "id": "68be766c-599b-485e-8274-b953006ed692",
   "metadata": {},
   "source": [
    "Q8.\n",
    "- Make a copy of the list of food and name it my_food\n",
    "- Clear the original food list."
   ]
  },
  {
   "cell_type": "code",
   "execution_count": 17,
   "id": "94112b9f-62be-470e-83f6-7b21c9021a83",
   "metadata": {},
   "outputs": [
    {
     "name": "stdout",
     "output_type": "stream",
     "text": [
      "Actual list is: ['sandwich', 'pizza', 'pasta', 'fries', 'fries', 'burger', 'burger', 'biryani']\n",
      "Copy list is: ['sandwich', 'pizza', 'pasta', 'fries', 'fries', 'burger', 'burger', 'biryani']\n",
      "The original list is empty: []\n"
     ]
    }
   ],
   "source": [
    "# - Make a copy of the list of food and name it my_food\n",
    "print(\"Actual list is:\", food)\n",
    "my_food = food.copy()\n",
    "print(\"Copy list is:\", my_food)\n",
    "\n",
    "# - Clear the original food list.\n",
    "food.clear()\n",
    "print(\"The original list is empty:\", food)\n"
   ]
  },
  {
   "cell_type": "raw",
   "id": "2285cbf7-729e-4750-8770-fe497637ee01",
   "metadata": {},
   "source": [
    "Q9.\n",
    "Count nested list [1,2] by count method\n",
    "data = [[1, 2],[3, 4],[1, 2],[2,4],[1, 2],[1,3,6]]"
   ]
  },
  {
   "cell_type": "code",
   "execution_count": 18,
   "id": "5e5bb1a6-8aa2-4931-afed-080e7a4ee115",
   "metadata": {},
   "outputs": [
    {
     "name": "stdout",
     "output_type": "stream",
     "text": [
      "Total count of [1,2] =  3\n"
     ]
    }
   ],
   "source": [
    "data = [[1, 2],[3, 4],[1, 2],[2,4],[1, 2],[1,3,6]]\n",
    "count = data.count([1,2])\n",
    "print(\"Total count of [1,2] = \", count)"
   ]
  },
  {
   "cell_type": "raw",
   "id": "8bf7f38a-e72a-4829-9f11-fe06653d2463",
   "metadata": {},
   "source": [
    "Q10.\n",
    "Replace 'cat' with 'found you'\n",
    "odd_item = ['almond','peanut'['onion','potato','tomato'['apple','mango','cherry',['cat'],'banana'],'lemon',],'walnut']"
   ]
  },
  {
   "cell_type": "code",
   "execution_count": 7,
   "id": "d8b4e1af-f156-4dd6-b27f-bdf6cc9215cf",
   "metadata": {},
   "outputs": [
    {
     "name": "stdout",
     "output_type": "stream",
     "text": [
      "Before:  ['almond', 'peanut', ['onion', 'potato', 'tomato', ['apple', 'mango', 'cherry', ['cat'], 'banana'], 'lemon'], 'walnut']\n",
      "After:  ['almond', 'peanut', ['onion', 'potato', 'tomato', ['apple', 'mango', 'cherry', ['found you'], 'banana'], 'lemon'], 'walnut']\n"
     ]
    }
   ],
   "source": [
    "odd_item = ['almond','peanut',['onion','potato','tomato',['apple','mango','cherry',['cat'],'banana'],'lemon',],'walnut']\n",
    "print(\"Before: \",odd_item)\n",
    "odd_item[2][3][3][0] = 'found you'\n",
    "print(\"After: \",odd_item)"
   ]
  },
  {
   "cell_type": "code",
   "execution_count": null,
   "id": "f799ae36-d387-4180-8738-96ed7f90b915",
   "metadata": {},
   "outputs": [],
   "source": []
  }
 ],
 "metadata": {
  "kernelspec": {
   "display_name": "Python 3 (ipykernel)",
   "language": "python",
   "name": "python3"
  },
  "language_info": {
   "codemirror_mode": {
    "name": "ipython",
    "version": 3
   },
   "file_extension": ".py",
   "mimetype": "text/x-python",
   "name": "python",
   "nbconvert_exporter": "python",
   "pygments_lexer": "ipython3",
   "version": "3.13.5"
  }
 },
 "nbformat": 4,
 "nbformat_minor": 5
}
