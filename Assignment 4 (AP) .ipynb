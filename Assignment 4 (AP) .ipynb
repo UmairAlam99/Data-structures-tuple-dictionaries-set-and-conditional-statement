{
 "cells": [
  {
   "cell_type": "markdown",
   "id": "f435c499-79fc-41c3-b0a5-65cd66c09971",
   "metadata": {},
   "source": [
    "### Question 01)\n",
    "text = 'hello python world'\n",
    "\n",
    "Replace spaces with underscores in the string (e.g., \"hello python world\" → \"hello_python_world\").\n",
    "\n",
    "Split the modified string (e.g., \"hello_python_world\" → ['hello', 'python', 'world']).\n",
    "\n",
    "Print all two results\n",
    "\n",
    "Hint: Use string methods"
   ]
  },
  {
   "cell_type": "code",
   "execution_count": 16,
   "id": "da09ab95-6621-4da4-9069-105f7fdffe2f",
   "metadata": {},
   "outputs": [
    {
     "name": "stdout",
     "output_type": "stream",
     "text": [
      "hello python world\n",
      "hello_python_world\n",
      "['hello', 'python', 'world']\n"
     ]
    }
   ],
   "source": [
    "text = 'hello python world'\n",
    "\n",
    "# Replace spaces with underscores in the string (e.g., \"hello python world\" → \"hello_python_world\").\n",
    "print(text)\n",
    "text_1 = (text.replace(' ','_'))\n",
    "print(text_1)\n",
    "\n",
    "# Split the modified string (e.g., \"hello_python_world\" → ['hello', 'python', 'world']).\n",
    "text_2 = text_1.split(\"_\")\n",
    "print(text_2)"
   ]
  },
  {
   "cell_type": "markdown",
   "id": "ae00389f-6db0-4844-abf9-6cafdbf59df4",
   "metadata": {},
   "source": [
    "### Question 02)\n",
    "\n",
    "You have a product code that follows the format \"SKU-12345-XYZ\".\n",
    "\n",
    "Find the first position of the dash (-).\n",
    "\n",
    "Count the number of dashes (-) in the product code.\n",
    "\n",
    "Remove the \"SKU-\" prefix and \"-XYZ\" suffix from the product code, Extract the numeric part 12345\n",
    "\n",
    "product_code = \"SKU-12345-XYZ\"\n",
    "\n",
    "Hint: Use String Methods"
   ]
  },
  {
   "cell_type": "code",
   "execution_count": 31,
   "id": "7092db43-60a8-45dd-b515-58aef6144c5a",
   "metadata": {},
   "outputs": [
    {
     "name": "stdout",
     "output_type": "stream",
     "text": [
      "The index number of fisrt position of dash is: 3\n",
      "Total dashes available in the string is: 2\n",
      "The numeric part is:  n 12345\n"
     ]
    }
   ],
   "source": [
    "product_code = \"SKU-12345-XYZ\"\n",
    "\n",
    "first_position = product_code.find(\"-\")\n",
    "print(\"The index number of fisrt position of dash is:\",first_position)\n",
    "\n",
    "# Count the number of dashes (-) in the product code.\n",
    "total_dashes = product_code.count(\"-\")\n",
    "print(\"Total dashes available in the string is:\", total_dashes)\n",
    "\n",
    "# Remove the \"SKU-\" prefix and \"-XYZ\" suffix from the product code, Extract the numeric part 12345\n",
    "numeric_part = product_code.replace(\"SKU-\",\"\").replace(\"-XYZ\",\"\")\n",
    "print(\"The numeric part is: \",numeric_part)"
   ]
  },
  {
   "cell_type": "markdown",
   "id": "6ab94424-e49e-4394-8ecd-89518fec69b1",
   "metadata": {},
   "source": [
    "### Question 03) \n",
    "Convert a string to Title Case.\n",
    "text_1 = \"hello world\""
   ]
  },
  {
   "cell_type": "code",
   "execution_count": 32,
   "id": "3ff56f7b-2f10-4443-83d9-8ae5c7bf3c31",
   "metadata": {},
   "outputs": [
    {
     "name": "stdout",
     "output_type": "stream",
     "text": [
      "Hello World\n"
     ]
    }
   ],
   "source": [
    "text = \"hello world\"\n",
    "print(text.title())"
   ]
  },
  {
   "cell_type": "markdown",
   "id": "49d4d0c4-3764-48c5-82f9-cf17bb6eb117",
   "metadata": {},
   "source": [
    "### Question 04)\n",
    "Capitalize the first letter of a string.\n",
    "\n",
    "text_2 = \"python programming\"\n"
   ]
  },
  {
   "cell_type": "code",
   "execution_count": 33,
   "id": "96f5c8d7-95e3-4d7e-8c9a-a8d12e7080c5",
   "metadata": {},
   "outputs": [
    {
     "name": "stdout",
     "output_type": "stream",
     "text": [
      "Python programming\n"
     ]
    }
   ],
   "source": [
    "text_2 = \"python programming\"\n",
    "print(text_2.capitalize())"
   ]
  },
  {
   "cell_type": "markdown",
   "id": "70e3cbe1-1fe2-4c99-9143-9c70ea468b4b",
   "metadata": {},
   "source": [
    "### Question 05)\n",
    "Given the string below, write Python code to:\n",
    "\n",
    "Convert the string so that each word starts with a capital letter\n",
    "     \n",
    "Then swap the case of every letter in the resulting string\n",
    "\n",
    "Print the final result.\n",
    "\n",
    "text1 = \"learning PYTHON is AWESOME\""
   ]
  },
  {
   "cell_type": "code",
   "execution_count": 34,
   "id": "0ceeae61-5b04-4e33-9ac9-1db0c1c2cc73",
   "metadata": {},
   "outputs": [
    {
     "name": "stdout",
     "output_type": "stream",
     "text": [
      "Learning Python Is Awesome\n",
      "lEARNING pYTHON iS aWESOME\n"
     ]
    }
   ],
   "source": [
    "text1 = \"learning PYTHON is AWESOME\"\n",
    "capitiliza_each_word = text1.title()\n",
    "print(capitiliza_each_word)\n",
    "resulting_strig = capitiliza_each_word.swapcase()\n",
    "print(resulting_strig)"
   ]
  },
  {
   "cell_type": "markdown",
   "id": "d780313c-2b56-42bd-a668-ad7a33d96d07",
   "metadata": {},
   "source": [
    "### Question 06)\n",
    "Write Python code to check and print whether the string satisfies the following:\n",
    "\n",
    "Is alphanumeric?\n",
    "\n",
    "Is alphabetic only?\n",
    "\n",
    "text2 = \"HelloWorld123\"\n"
   ]
  },
  {
   "cell_type": "code",
   "execution_count": 41,
   "id": "47669476-c42a-49e9-b774-b6bac3164935",
   "metadata": {},
   "outputs": [
    {
     "name": "stdout",
     "output_type": "stream",
     "text": [
      "Check for alphanumeric: False\n",
      "Check for alphabetic: False\n",
      "Check for both alphabetic and numeric: True\n"
     ]
    }
   ],
   "source": [
    "text_2 = \"HelloWorld123\"\n",
    "print(\"Check for alphanumeric:\", text_2.isnumeric())\n",
    "print(\"Check for alphabetic:\", text_2.isalpha())\n",
    "print(\"Check for both alphabetic and numeric:\", text_2.isalnum())"
   ]
  },
  {
   "cell_type": "markdown",
   "id": "9ef31bb7-107f-45d0-acae-85dda46fe035",
   "metadata": {},
   "source": [
    "### Question 07)\n",
    "Write Python code to check and print whether the string satisfies the following:\n",
    "\n",
    "Is the string made up of digits only?\n",
    "\n",
    "Is the string all lowercase?\n",
    "\n",
    "text3 = \"helloworld\""
   ]
  },
  {
   "cell_type": "code",
   "execution_count": 44,
   "id": "5ea3e371-dbe6-4deb-9d18-e024e6ae1d21",
   "metadata": {},
   "outputs": [
    {
     "name": "stdout",
     "output_type": "stream",
     "text": [
      "False\n",
      "True\n"
     ]
    }
   ],
   "source": [
    "text3 = \"helloworld\"\n",
    "print(text3.isdigit())\n",
    "print(text3.islower())"
   ]
  },
  {
   "cell_type": "markdown",
   "id": "1bf203d5-3e27-44a6-99aa-5c9351aaa24e",
   "metadata": {},
   "source": [
    "### Question 08)\n",
    "\n",
    "Write Python code to check and print whether the string satisfies the following:\n",
    "\n",
    "Is the string all uppercase?\n",
    "\n",
    "Is the string titlecased?\n",
    "\n",
    "text4 = 'Hi We Are Learning Python'"
   ]
  },
  {
   "cell_type": "code",
   "execution_count": 45,
   "id": "fe9ae05d-987e-4468-9626-ff7bcd239494",
   "metadata": {},
   "outputs": [
    {
     "name": "stdout",
     "output_type": "stream",
     "text": [
      "Checking for UPPERCASE: False\n",
      "Checking for Titlecase: True\n"
     ]
    }
   ],
   "source": [
    "text4 = 'Hi We Are Learning Python'\n",
    "for_uppercase = text4.isupper() \n",
    "print(\"Checking for UPPERCASE:\", for_uppercase)\n",
    "\n",
    "for_titlecase = text4.istitle()\n",
    "print(\"Checking for Titlecase:\", for_titlecase)"
   ]
  },
  {
   "cell_type": "markdown",
   "id": "20a948e1-07e7-4310-a034-073fc238b05a",
   "metadata": {},
   "source": [
    "### Question 09)\n",
    "Write Python code to check and print whether the string:\n",
    "\n",
    "Starts with \"data\"\n",
    "\n",
    "Ends with \".csv\"\n",
    "\n",
    "text5 = \"data_report_2023.csv\""
   ]
  },
  {
   "cell_type": "code",
   "execution_count": 47,
   "id": "7e6c574b-fb7d-49ee-8637-61459c61fc52",
   "metadata": {},
   "outputs": [
    {
     "name": "stdout",
     "output_type": "stream",
     "text": [
      "Starts with: True\n",
      "Ends with: True\n"
     ]
    }
   ],
   "source": [
    "text5 = \"data_report_2023.csv\"\n",
    "print(\"Starts with:\",text5.startswith(\"data\"))\n",
    "print(\"Ends with:\",text5.endswith(\".csv\"))"
   ]
  },
  {
   "cell_type": "markdown",
   "id": "7f782c09-0394-41b6-adfd-e15037090c58",
   "metadata": {},
   "source": [
    "### Question 10)\n",
    "\n",
    "Write Python code to:\n",
    "\n",
    "Count how many times \"banana\" appears in the string.\n",
    "\n",
    "fruit = \"banana bandana banana\""
   ]
  },
  {
   "cell_type": "code",
   "execution_count": 48,
   "id": "11c74917-6b4e-4f23-bebc-2a3d44354ec6",
   "metadata": {},
   "outputs": [
    {
     "name": "stdout",
     "output_type": "stream",
     "text": [
      "Total banana is: 2\n"
     ]
    }
   ],
   "source": [
    "fruit = \"banana bandana banana\"\n",
    "total_banana = fruit.count(\"banana\")\n",
    "print(\"Total banana is:\", total_banana)"
   ]
  },
  {
   "cell_type": "code",
   "execution_count": null,
   "id": "64700b32-3040-4261-ad2f-2a8e2a279959",
   "metadata": {},
   "outputs": [],
   "source": []
  }
 ],
 "metadata": {
  "kernelspec": {
   "display_name": "Python 3 (ipykernel)",
   "language": "python",
   "name": "python3"
  },
  "language_info": {
   "codemirror_mode": {
    "name": "ipython",
    "version": 3
   },
   "file_extension": ".py",
   "mimetype": "text/x-python",
   "name": "python",
   "nbconvert_exporter": "python",
   "pygments_lexer": "ipython3",
   "version": "3.13.5"
  }
 },
 "nbformat": 4,
 "nbformat_minor": 5
}
