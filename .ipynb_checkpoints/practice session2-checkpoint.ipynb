{
 "cells": [
  {
   "cell_type": "code",
   "execution_count": 1,
   "id": "7224297f-e734-4d94-ab36-aa3043ff6ca5",
   "metadata": {},
   "outputs": [
    {
     "data": {
      "text/plain": [
       "'hello umair'"
      ]
     },
     "execution_count": 1,
     "metadata": {},
     "output_type": "execute_result"
    }
   ],
   "source": [
    "\"hello umair\""
   ]
  },
  {
   "cell_type": "code",
   "execution_count": 3,
   "id": "86cd5b82-9706-43f4-b4fa-cf3586cb2c86",
   "metadata": {},
   "outputs": [
    {
     "name": "stdout",
     "output_type": "stream",
     "text": [
      "4\n",
      "5\n"
     ]
    }
   ],
   "source": [
    "x = 4\n",
    "y = 5\n",
    "print(x)\n",
    "print(y)"
   ]
  },
  {
   "cell_type": "markdown",
   "id": "c467fa17-8300-44f7-a1ba-e5cabe355786",
   "metadata": {},
   "source": []
  },
  {
   "cell_type": "markdown",
   "id": "8448a3c4-36f8-4393-afb4-cf5ced74f4e9",
   "metadata": {},
   "source": [
    "# Update variable---h1"
   ]
  },
  {
   "cell_type": "markdown",
   "id": "06a43b56-8c39-4672-88e4-467cdcdefed2",
   "metadata": {},
   "source": [
    "if i want x become 20\n",
    "if i want y become 15"
   ]
  },
  {
   "cell_type": "code",
   "execution_count": 5,
   "id": "029f8c70-a052-403f-8f49-a93d8a1eae71",
   "metadata": {},
   "outputs": [
    {
     "name": "stdout",
     "output_type": "stream",
     "text": [
      "20\n",
      "20\n"
     ]
    }
   ],
   "source": [
    "x= x + 16\n",
    "y = y + 15\n",
    "print(x)\n",
    "print(y)"
   ]
  },
  {
   "cell_type": "code",
   "execution_count": null,
   "id": "248ae004-c63d-4819-8974-86e4ab958abf",
   "metadata": {},
   "outputs": [],
   "source": []
  }
 ],
 "metadata": {
  "kernelspec": {
   "display_name": "Python 3 (ipykernel)",
   "language": "python",
   "name": "python3"
  },
  "language_info": {
   "codemirror_mode": {
    "name": "ipython",
    "version": 3
   },
   "file_extension": ".py",
   "mimetype": "text/x-python",
   "name": "python",
   "nbconvert_exporter": "python",
   "pygments_lexer": "ipython3",
   "version": "3.13.5"
  }
 },
 "nbformat": 4,
 "nbformat_minor": 5
}
