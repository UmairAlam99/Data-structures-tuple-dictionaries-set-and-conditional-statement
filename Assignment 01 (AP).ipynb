{
 "cells": [
  {
   "cell_type": "code",
   "execution_count": 1,
   "id": "daa0b973-9ff6-4cca-8965-71a21e277fa1",
   "metadata": {},
   "outputs": [
    {
     "name": "stdout",
     "output_type": "stream",
     "text": [
      "umair alam\n"
     ]
    }
   ],
   "source": [
    "print(\"umair alam\")"
   ]
  },
  {
   "cell_type": "code",
   "execution_count": 5,
   "id": "cc46c96f-d18d-4ed2-8205-45fd2148e0ab",
   "metadata": {},
   "outputs": [
    {
     "data": {
      "text/plain": [
       "'umair alam'"
      ]
     },
     "execution_count": 5,
     "metadata": {},
     "output_type": "execute_result"
    }
   ],
   "source": [
    "'umair alam'"
   ]
  },
  {
   "cell_type": "code",
   "execution_count": 7,
   "id": "2358de14-f683-4b0d-8807-29ac33bc1fc2",
   "metadata": {},
   "outputs": [
    {
     "name": "stdout",
     "output_type": "stream",
     "text": [
      "umair \n",
      "     alam\n"
     ]
    }
   ],
   "source": [
    "print(\"\"\"umair \n",
    "     alam\"\"\")"
   ]
  },
  {
   "cell_type": "markdown",
   "id": "a17ec2f3-114a-45d7-ad67-443797453887",
   "metadata": {},
   "source": [
    "### Assignment solution"
   ]
  },
  {
   "cell_type": "code",
   "execution_count": 1,
   "id": "8adda615-4bdb-4fe5-8ae5-94b25ecb6bad",
   "metadata": {},
   "outputs": [
    {
     "name": "stdout",
     "output_type": "stream",
     "text": [
      "Twinkle, twinkle, little star,\n",
      "                  How I wonder what you are!\n",
      "                  Up above the world so high,\n",
      "Like a diamond in the sky.\n",
      "Twinkle, twinkle, little star,\n",
      "How I wonder what you are!\n"
     ]
    }
   ],
   "source": [
    "print(\"\"\"Twinkle, twinkle, little star,\n",
    "                  How I wonder what you are!\n",
    "                  Up above the world so high,\n",
    "Like a diamond in the sky.\n",
    "Twinkle, twinkle, little star,\n",
    "How I wonder what you are!\"\"\")"
   ]
  },
  {
   "cell_type": "code",
   "execution_count": null,
   "id": "f1de6a48-a4b4-4691-812b-42caa7c2e15d",
   "metadata": {},
   "outputs": [],
   "source": []
  }
 ],
 "metadata": {
  "kernelspec": {
   "display_name": "Python 3 (ipykernel)",
   "language": "python",
   "name": "python3"
  },
  "language_info": {
   "codemirror_mode": {
    "name": "ipython",
    "version": 3
   },
   "file_extension": ".py",
   "mimetype": "text/x-python",
   "name": "python",
   "nbconvert_exporter": "python",
   "pygments_lexer": "ipython3",
   "version": "3.13.5"
  }
 },
 "nbformat": 4,
 "nbformat_minor": 5
}
